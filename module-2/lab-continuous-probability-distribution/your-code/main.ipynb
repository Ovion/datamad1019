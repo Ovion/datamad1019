{
 "cells": [
  {
   "cell_type": "markdown",
   "metadata": {},
   "source": [
    "# Before your start:\n",
    "\n",
    "    Read the README.md file\n",
    "    Comment as much as you can and use the resources (README.md file)\n",
    "    Happy learning!"
   ]
  },
  {
   "cell_type": "markdown",
   "metadata": {},
   "source": [
    "In this exercise, we  will generate random numbers from the continuous disributions we learned in the lesson. There are two ways to generate random numbers:\n",
    "\n",
    "1. Using the numpy library \n",
    "1. using the Scipy library \n",
    "\n",
    "Use either or both of the lbraries in this exercise."
   ]
  },
  {
   "cell_type": "markdown",
   "metadata": {},
   "source": [
    "## Uniform Distribution\n",
    "\n",
    "To generate uniform random numbers between any two given values using scipy, we can either use the following code or the code that we have\n",
    "discussed in class:"
   ]
  },
  {
   "cell_type": "code",
   "execution_count": 1,
   "metadata": {},
   "outputs": [
    {
     "name": "stdout",
     "output_type": "stream",
     "text": [
      "[ 2.71579168  2.39661371  2.13770764  2.35372564  2.50722107  2.57503371\n",
      "  2.88402902  2.00326438  2.03442973  2.61386882]\n"
     ]
    }
   ],
   "source": [
    "\n",
    "from scipy.stats import uniform\n",
    "x = uniform.rvs(size=10)\n",
    "a = 2\n",
    "b = 3\n",
    "randoms  = a + (b-a)*x\n",
    "print(randoms)"
   ]
  },
  {
   "cell_type": "markdown",
   "metadata": {},
   "source": [
    "**Your task:**\n",
    "\n",
    "1. Based on the code above, write a function that generates uniformly distributed random numbers. There are several requirements for your function:\n",
    "    * It should accept 3 parameters: \n",
    "        * `bottom` - the lower boundary of the generated numbers\n",
    "        * `ceiling` - the upper boundary of the generated numbers\n",
    "        * `count` - how many numbers to generate\n",
    "    * It should return an array of uniformly distributed random numbers\n",
    "\n",
    "1. Call your function with 2 sets of params below:\n",
    "    * bottom=10, ceiling=15, count=100\n",
    "    * bottom=10, ceiling=60, count=1,000\n",
    "\n",
    "1. Plot the uniform distributions generated above using histograms, where x axis is the value and y axis is the count. Let the histogram's number of bins be 10.\n",
    "\n",
    "Your output should look like below:\n",
    "\n",
    "![uniform distribution](ud.png)"
   ]
  },
  {
   "cell_type": "code",
   "execution_count": 2,
   "metadata": {},
   "outputs": [
    {
     "data": {
      "text/plain": [
       "(array([  88.,  117.,  102.,   89.,   99.,  107.,  100.,   95.,  100.,  103.]),\n",
       " array([ 10.0641685 ,  15.04764467,  20.03112083,  25.01459699,\n",
       "         29.99807315,  34.98154932,  39.96502548,  44.94850164,\n",
       "         49.9319778 ,  54.91545397,  59.89893013]),\n",
       " <a list of 10 Patch objects>)"
      ]
     },
     "execution_count": 2,
     "metadata": {},
     "output_type": "execute_result"
    },
    {
     "data": {
      "image/png": "[encoded data removed]",
      "text/plain": [
       "<matplotlib.figure.Figure at 0x7ff843ce7f28>"
      ]
     },
     "metadata": {
      "needs_background": "light"
     },
     "output_type": "display_data"
    }
   ],
   "source": [
    "%matplotlib inline\n",
    "import matplotlib.pyplot as plt\n",
    "\n",
    "def uni_dist(count, bottom, ceiling):\n",
    "    x = uniform.rvs(size=count)\n",
    "    return bottom + (ceiling-bottom)*x\n",
    "\n",
    "plt.subplot (1,2,1)\n",
    "plt.hist(uni_dist(100, 10, 15))\n",
    "plt.yticks (range(0, 140, 20))\n",
    "plt.subplot (1,2,2)\n",
    "plt.hist(uni_dist(1000, 10, 60))"
   ]
  },
  {
   "cell_type": "markdown",
   "metadata": {},
   "source": [
    "How are the two distributions different?"
   ]
  },
  {
   "cell_type": "code",
   "execution_count": 3,
   "metadata": {},
   "outputs": [
    {
     "data": {
      "text/plain": [
       "(array([ 103.,   84.,  100.,  104.,   84.,  115.,  100.,   96.,  111.,  103.]),\n",
       " array([ 10.00825248,  15.00369931,  19.99914613,  24.99459295,\n",
       "         29.99003978,  34.9854866 ,  39.98093342,  44.97638025,\n",
       "         49.97182707,  54.96727389,  59.96272072]),\n",
       " <a list of 10 Patch objects>)"
      ]
     },
     "execution_count": 3,
     "metadata": {},
     "output_type": "execute_result"
    },
    {
     "data": {
      "image/png": "[encoded data removed]",
      "text/plain": [
       "<matplotlib.figure.Figure at 0x7ff8412e2da0>"
      ]
     },
     "metadata": {
      "needs_background": "light"
     },
     "output_type": "display_data"
    }
   ],
   "source": [
    "plt.subplot (1,2,1)\n",
    "plt.hist(uni_dist(100, 10, 15))\n",
    "plt.subplot (1,2,2)\n",
    "plt.hist(uni_dist(1000, 10, 60))\n",
    "\n",
    "# Sí son diferentes porque una tiene muchos más datos que la otra \n",
    "# y por tanto tiende más a la uniformidad"
   ]
  },
  {
   "cell_type": "markdown",
   "metadata": {},
   "source": [
    "## Normal Distribution\n",
    "\n",
    "1. In the same way in the Uniform Distribution challenge, write a function that generates normally distributed random numbers.\n",
    "1. Generate 1,000 normally distributed numbers with the average of 10 and standard deviation of 1\n",
    "1. Generate 1,000 normally distributed numbers with the average of 10 and standard deviation of 50\n",
    "2. Plot the distributions of the data generated.\n",
    "\n",
    "Expected output:\n",
    "\n",
    "![normal distribution](nd.png)"
   ]
  },
  {
   "cell_type": "code",
   "execution_count": 4,
   "metadata": {},
   "outputs": [
    {
     "data": {
      "text/plain": [
       "(array([  1.,   0.,   0.,   0.,   0.,   0.,   0.,   0.,   0.,   1.,   1.,\n",
       "          3.,   0.,   0.,   2.,   2.,   2.,   3.,   1.,   5.,   6.,   7.,\n",
       "          5.,   8.,  11.,  10.,  13.,  14.,  17.,  21.,  18.,   8.,  16.,\n",
       "         21.,  23.,  23.,  29.,  32.,  35.,  33.,  36.,  31.,  27.,  35.,\n",
       "         32.,  37.,  33.,  39.,  32.,  30.,  24.,  32.,  34.,  26.,  13.,\n",
       "         20.,  14.,  12.,  20.,  10.,  18.,  10.,  13.,   8.,   8.,   2.,\n",
       "          5.,   4.,   3.,   4.,   6.,   4.,   1.,   0.,   0.,   2.,   0.,\n",
       "          2.,   0.,   2.]),\n",
       " array([-169.55797034, -165.43016115, -161.30235197, -157.17454278,\n",
       "        -153.04673359, -148.9189244 , -144.79111522, -140.66330603,\n",
       "        -136.53549684, -132.40768765, -128.27987846, -124.15206928,\n",
       "        -120.02426009, -115.8964509 , -111.76864171, -107.64083253,\n",
       "        -103.51302334,  -99.38521415,  -95.25740496,  -91.12959578,\n",
       "         -87.00178659,  -82.8739774 ,  -78.74616821,  -74.61835903,\n",
       "         -70.49054984,  -66.36274065,  -62.23493146,  -58.10712228,\n",
       "         -53.97931309,  -49.8515039 ,  -45.72369471,  -41.59588552,\n",
       "         -37.46807634,  -33.34026715,  -29.21245796,  -25.08464877,\n",
       "         -20.95683959,  -16.8290304 ,  -12.70122121,   -8.57341202,\n",
       "          -4.44560284,   -0.31779365,    3.81001554,    7.93782473,\n",
       "          12.06563391,   16.1934431 ,   20.32125229,   24.44906148,\n",
       "          28.57687067,   32.70467985,   36.83248904,   40.96029823,\n",
       "          45.08810742,   49.2159166 ,   53.34372579,   57.47153498,\n",
       "          61.59934417,   65.72715335,   69.85496254,   73.98277173,\n",
       "          78.11058092,   82.2383901 ,   86.36619929,   90.49400848,\n",
       "          94.62181767,   98.74962686,  102.87743604,  107.00524523,\n",
       "         111.13305442,  115.26086361,  119.38867279,  123.51648198,\n",
       "         127.64429117,  131.77210036,  135.89990954,  140.02771873,\n",
       "         144.15552792,  148.28333711,  152.41114629,  156.53895548,\n",
       "         160.66676467]),\n",
       " <a list of 80 Patch objects>)"
      ]
     },
     "execution_count": 4,
     "metadata": {},
     "output_type": "execute_result"
    },
    {
     "data": {
      "image/png": "[encoded data removed]",
      "text/plain": [
       "<matplotlib.figure.Figure at 0x7ff84125cc18>"
      ]
     },
     "metadata": {
      "needs_background": "light"
     },
     "output_type": "display_data"
    }
   ],
   "source": [
    "from scipy.stats import norm\n",
    "\n",
    "def nor_dist(count, aver, std):\n",
    "    r = norm.rvs(size=count)\n",
    "    return r*std+aver\n",
    "\n",
    "plt.subplot (1,2,1)\n",
    "plt.hist(nor_dist(1000, 10, 1), bins = 50)\n",
    "\n",
    "plt.subplot (1,2,2)\n",
    "plt.hist(nor_dist(1000, 10, 50), bins = 80)\n",
    "\n",
    "\n",
    "\n"
   ]
  },
  {
   "cell_type": "markdown",
   "metadata": {},
   "source": [
    "How are the two distributions different?"
   ]
  },
  {
   "cell_type": "code",
   "execution_count": 5,
   "metadata": {},
   "outputs": [],
   "source": [
    "# De hecho son muy similares"
   ]
  },
  {
   "cell_type": "markdown",
   "metadata": {},
   "source": [
    "## Normal Distribution of Real Data\n",
    "\n",
    "In this challenge we are going to take a look the real data. We will use vehicles.csv file for this exercise"
   ]
  },
  {
   "cell_type": "markdown",
   "metadata": {},
   "source": [
    "First import vehicles.csv.\n",
    "Then plot the histograms for the following variables:\n",
    "\n",
    "1. Fuel Barrels/Year"
   ]
  },
  {
   "cell_type": "code",
   "execution_count": 10,
   "metadata": {},
   "outputs": [
    {
     "data": {
      "text/plain": [
       "(array([  6.00000000e+01,   3.00000000e+00,   2.00000000e+00,\n",
       "          8.00000000e+00,   8.00000000e+00,   1.00000000e+01,\n",
       "          2.50000000e+01,   4.20000000e+01,   1.60000000e+02,\n",
       "          1.37000000e+02,   4.21000000e+02,   7.05000000e+02,\n",
       "          1.75400000e+03,   2.30500000e+03,   1.58000000e+03,\n",
       "          4.02000000e+03,   3.16700000e+03,   3.09200000e+03,\n",
       "          3.23100000e+03,   3.52900000e+03,   2.30800000e+03,\n",
       "          2.30500000e+03,   6.50000000e+01,   2.34800000e+03,\n",
       "          1.94000000e+03,   8.60000000e+01,   1.24500000e+03,\n",
       "          3.00000000e+01,   5.00000000e+00,   7.30000000e+02,\n",
       "          0.00000000e+00,   4.39000000e+02,   0.00000000e+00,\n",
       "          0.00000000e+00,   1.30000000e+02,   0.00000000e+00,\n",
       "          0.00000000e+00,   0.00000000e+00,   3.60000000e+01,\n",
       "          0.00000000e+00,   0.00000000e+00,   0.00000000e+00,\n",
       "          0.00000000e+00,   2.10000000e+01,   0.00000000e+00,\n",
       "          0.00000000e+00,   0.00000000e+00,   0.00000000e+00,\n",
       "          0.00000000e+00,   5.00000000e+00]),\n",
       " array([  0.06      ,   1.00054286,   1.94108571,   2.88162857,\n",
       "          3.82217143,   4.76271429,   5.70325714,   6.6438    ,\n",
       "          7.58434286,   8.52488571,   9.46542857,  10.40597143,\n",
       "         11.34651429,  12.28705714,  13.2276    ,  14.16814286,\n",
       "         15.10868571,  16.04922857,  16.98977143,  17.93031429,\n",
       "         18.87085714,  19.8114    ,  20.75194286,  21.69248571,\n",
       "         22.63302857,  23.57357143,  24.51411429,  25.45465714,\n",
       "         26.3952    ,  27.33574286,  28.27628571,  29.21682857,\n",
       "         30.15737143,  31.09791429,  32.03845714,  32.979     ,\n",
       "         33.91954286,  34.86008571,  35.80062857,  36.74117143,\n",
       "         37.68171429,  38.62225714,  39.5628    ,  40.50334286,\n",
       "         41.44388571,  42.38442857,  43.32497143,  44.26551429,\n",
       "         45.20605714,  46.1466    ,  47.08714286]),\n",
       " <a list of 50 Patch objects>)"
      ]
     },
     "execution_count": 10,
     "metadata": {},
     "output_type": "execute_result"
    },
    {
     "data": {
      "image/png": "[encoded data removed]",
      "text/plain": [
       "<matplotlib.figure.Figure at 0x7ff8398ddfd0>"
      ]
     },
     "metadata": {
      "needs_background": "light"
     },
     "output_type": "display_data"
    }
   ],
   "source": [
    "import pandas as pd\n",
    "\n",
    "\n",
    "vehicles = pd.read_csv ('vehicles.csv')\n",
    "plt.hist(vehicles['Fuel Barrels/Year'], bins = 50)"
   ]
  },
  {
   "cell_type": "markdown",
   "metadata": {},
   "source": [
    "2. CO2 Emission Grams/Mile "
   ]
  },
  {
   "cell_type": "code",
   "execution_count": 11,
   "metadata": {},
   "outputs": [
    {
     "data": {
      "text/plain": [
       "(array([  5.00000000e+00,   4.00000000e+00,   7.00000000e+00,\n",
       "          1.40000000e+01,   4.00000000e+00,   2.40000000e+01,\n",
       "          5.40000000e+01,   1.59000000e+02,   1.48000000e+02,\n",
       "          4.47000000e+02,   1.06100000e+03,   1.34900000e+03,\n",
       "          2.21900000e+03,   1.79700000e+03,   3.77900000e+03,\n",
       "          3.26400000e+03,   3.14500000e+03,   3.23200000e+03,\n",
       "          3.49900000e+03,   2.27100000e+03,   2.45000000e+02,\n",
       "          2.21400000e+03,   2.27600000e+03,   1.46000000e+02,\n",
       "          1.94400000e+03,   3.60000000e+01,   1.22500000e+03,\n",
       "          3.70000000e+01,   7.09000000e+02,   3.00000000e+00,\n",
       "          6.00000000e+00,   4.37000000e+02,   3.00000000e+00,\n",
       "          0.00000000e+00,   1.27000000e+02,   0.00000000e+00,\n",
       "          0.00000000e+00,   0.00000000e+00,   3.60000000e+01,\n",
       "          0.00000000e+00,   0.00000000e+00,   0.00000000e+00,\n",
       "          0.00000000e+00,   2.10000000e+01,   0.00000000e+00,\n",
       "          0.00000000e+00,   0.00000000e+00,   0.00000000e+00,\n",
       "          0.00000000e+00,   5.00000000e+00]),\n",
       " array([   37.        ,    61.65142857,    86.30285714,   110.95428571,\n",
       "          135.60571429,   160.25714286,   184.90857143,   209.56      ,\n",
       "          234.21142857,   258.86285714,   283.51428571,   308.16571429,\n",
       "          332.81714286,   357.46857143,   382.12      ,   406.77142857,\n",
       "          431.42285714,   456.07428571,   480.72571429,   505.37714286,\n",
       "          530.02857143,   554.68      ,   579.33142857,   603.98285714,\n",
       "          628.63428571,   653.28571429,   677.93714286,   702.58857143,\n",
       "          727.24      ,   751.89142857,   776.54285714,   801.19428571,\n",
       "          825.84571429,   850.49714286,   875.14857143,   899.8       ,\n",
       "          924.45142857,   949.10285714,   973.75428571,   998.40571429,\n",
       "         1023.05714286,  1047.70857143,  1072.36      ,  1097.01142857,\n",
       "         1121.66285714,  1146.31428571,  1170.96571429,  1195.61714286,\n",
       "         1220.26857143,  1244.92      ,  1269.57142857]),\n",
       " <a list of 50 Patch objects>)"
      ]
     },
     "execution_count": 11,
     "metadata": {},
     "output_type": "execute_result"
    },
    {
     "data": {
      "image/png": "[encoded data removed]",
      "text/plain": [
       "<matplotlib.figure.Figure at 0x7ff839898d68>"
      ]
     },
     "metadata": {
      "needs_background": "light"
     },
     "output_type": "display_data"
    }
   ],
   "source": [
    "plt.hist(vehicles[\"CO2 Emission Grams/Mile\"], bins = 50)"
   ]
  },
  {
   "cell_type": "markdown",
   "metadata": {},
   "source": [
    "3. Combined MPG"
   ]
  },
  {
   "cell_type": "code",
   "execution_count": 12,
   "metadata": {},
   "outputs": [
    {
     "data": {
      "text/plain": [
       "(array([  5.00000000e+00,   2.10000000e+01,   4.00000000e+01,\n",
       "          1.31000000e+02,   4.41000000e+02,   7.41000000e+02,\n",
       "          1.25500000e+03,   1.94700000e+03,   2.24100000e+03,\n",
       "          2.31500000e+03,   2.42000000e+03,   3.55900000e+03,\n",
       "          3.28200000e+03,   3.09300000e+03,   3.15800000e+03,\n",
       "          2.24700000e+03,   1.79400000e+03,   1.54600000e+03,\n",
       "          1.27800000e+03,   1.06700000e+03,   6.92000000e+02,\n",
       "          6.39000000e+02,   4.53000000e+02,   3.71000000e+02,\n",
       "          2.61000000e+02,   1.69000000e+02,   1.76000000e+02,\n",
       "          1.62000000e+02,   7.10000000e+01,   5.80000000e+01,\n",
       "          4.10000000e+01,   4.30000000e+01,   2.30000000e+01,\n",
       "          6.50000000e+01,   3.80000000e+01,   3.70000000e+01,\n",
       "          7.00000000e+00,   5.00000000e+00,   5.00000000e+00,\n",
       "          1.10000000e+01,   1.60000000e+01,   2.00000000e+00,\n",
       "          0.00000000e+00,   1.50000000e+01,   0.00000000e+00,\n",
       "          5.00000000e+00,   4.00000000e+00,   0.00000000e+00,\n",
       "          0.00000000e+00,   2.00000000e+00]),\n",
       " array([  7.  ,   7.98,   8.96,   9.94,  10.92,  11.9 ,  12.88,  13.86,\n",
       "         14.84,  15.82,  16.8 ,  17.78,  18.76,  19.74,  20.72,  21.7 ,\n",
       "         22.68,  23.66,  24.64,  25.62,  26.6 ,  27.58,  28.56,  29.54,\n",
       "         30.52,  31.5 ,  32.48,  33.46,  34.44,  35.42,  36.4 ,  37.38,\n",
       "         38.36,  39.34,  40.32,  41.3 ,  42.28,  43.26,  44.24,  45.22,\n",
       "         46.2 ,  47.18,  48.16,  49.14,  50.12,  51.1 ,  52.08,  53.06,\n",
       "         54.04,  55.02,  56.  ]),\n",
       " <a list of 50 Patch objects>)"
      ]
     },
     "execution_count": 12,
     "metadata": {},
     "output_type": "execute_result"
    },
    {
     "data": {
      "image/png": "[encoded data removed]",
      "text/plain": [
       "<matplotlib.figure.Figure at 0x7ff839c27358>"
      ]
     },
     "metadata": {
      "needs_background": "light"
     },
     "output_type": "display_data"
    }
   ],
   "source": [
    "plt.hist(vehicles[\"Combined MPG\"], bins = 50)"
   ]
  },
  {
   "cell_type": "markdown",
   "metadata": {},
   "source": [
    "Which one(s) of the variables are nearly normally distributed? How do you know?"
   ]
  },
  {
   "cell_type": "code",
   "execution_count": null,
   "metadata": {},
   "outputs": [],
   "source": [
    "# \"Combined MPG\" aunque tenga algunos outliers, es la más simétrica de todas"
   ]
  },
  {
   "cell_type": "markdown",
   "metadata": {},
   "source": [
    "## Exponential Distribution"
   ]
  },
  {
   "cell_type": "markdown",
   "metadata": {},
   "source": [
    "1. Using `numpy.random.exponential`, create a function that returns a list of numbers exponentially distributed with the mean of 10. \n",
    "\n",
    "1. Use the function to generate two number sequences with the size of 10 and 100.\n",
    "\n",
    "1. Plot the distributions as histograms with the nubmer of bins as 100.\n",
    "\n",
    "Your output should look like below:\n",
    "\n",
    "![exponential distribution](ed.png)"
   ]
  },
  {
   "cell_type": "code",
   "execution_count": 15,
   "metadata": {},
   "outputs": [],
   "source": [
    "import numpy as np"
   ]
  },
  {
   "cell_type": "code",
   "execution_count": 21,
   "metadata": {},
   "outputs": [
    {
     "data": {
      "text/plain": [
       "(array([ 7.,  3.,  3.,  8.,  2.,  6.,  2.,  6.,  6.,  2.,  4.,  1.,  3.,\n",
       "         2.,  1.,  2.,  1.,  0.,  2.,  3.,  0.,  1.,  2.,  0.,  2.,  1.,\n",
       "         1.,  3.,  3.,  0.,  1.,  1.,  1.,  1.,  0.,  1.,  2.,  3.,  1.,\n",
       "         0.,  0.,  0.,  0.,  1.,  0.,  2.,  1.,  0.,  0.,  0.,  2.,  0.,\n",
       "         0.,  0.,  0.,  0.,  0.,  0.,  0.,  0.,  0.,  0.,  0.,  1.,  0.,\n",
       "         0.,  0.,  0.,  0.,  0.,  0.,  0.,  0.,  0.,  0.,  0.,  1.,  0.,\n",
       "         0.,  0.,  0.,  0.,  1.,  0.,  0.,  0.,  0.,  0.,  0.,  1.,  0.,\n",
       "         0.,  0.,  0.,  0.,  0.,  1.,  0.,  0.,  1.]),\n",
       " array([  1.22966790e-02,   4.27774562e-01,   8.43252445e-01,\n",
       "          1.25873033e+00,   1.67420821e+00,   2.08968609e+00,\n",
       "          2.50516398e+00,   2.92064186e+00,   3.33611974e+00,\n",
       "          3.75159763e+00,   4.16707551e+00,   4.58255339e+00,\n",
       "          4.99803128e+00,   5.41350916e+00,   5.82898704e+00,\n",
       "          6.24446492e+00,   6.65994281e+00,   7.07542069e+00,\n",
       "          7.49089857e+00,   7.90637646e+00,   8.32185434e+00,\n",
       "          8.73733222e+00,   9.15281011e+00,   9.56828799e+00,\n",
       "          9.98376587e+00,   1.03992438e+01,   1.08147216e+01,\n",
       "          1.12301995e+01,   1.16456774e+01,   1.20611553e+01,\n",
       "          1.24766332e+01,   1.28921111e+01,   1.33075889e+01,\n",
       "          1.37230668e+01,   1.41385447e+01,   1.45540226e+01,\n",
       "          1.49695005e+01,   1.53849784e+01,   1.58004562e+01,\n",
       "          1.62159341e+01,   1.66314120e+01,   1.70468899e+01,\n",
       "          1.74623678e+01,   1.78778457e+01,   1.82933235e+01,\n",
       "          1.87088014e+01,   1.91242793e+01,   1.95397572e+01,\n",
       "          1.99552351e+01,   2.03707129e+01,   2.07861908e+01,\n",
       "          2.12016687e+01,   2.16171466e+01,   2.20326245e+01,\n",
       "          2.24481024e+01,   2.28635802e+01,   2.32790581e+01,\n",
       "          2.36945360e+01,   2.41100139e+01,   2.45254918e+01,\n",
       "          2.49409697e+01,   2.53564475e+01,   2.57719254e+01,\n",
       "          2.61874033e+01,   2.66028812e+01,   2.70183591e+01,\n",
       "          2.74338370e+01,   2.78493148e+01,   2.82647927e+01,\n",
       "          2.86802706e+01,   2.90957485e+01,   2.95112264e+01,\n",
       "          2.99267043e+01,   3.03421821e+01,   3.07576600e+01,\n",
       "          3.11731379e+01,   3.15886158e+01,   3.20040937e+01,\n",
       "          3.24195716e+01,   3.28350494e+01,   3.32505273e+01,\n",
       "          3.36660052e+01,   3.40814831e+01,   3.44969610e+01,\n",
       "          3.49124389e+01,   3.53279167e+01,   3.57433946e+01,\n",
       "          3.61588725e+01,   3.65743504e+01,   3.69898283e+01,\n",
       "          3.74053062e+01,   3.78207840e+01,   3.82362619e+01,\n",
       "          3.86517398e+01,   3.90672177e+01,   3.94826956e+01,\n",
       "          3.98981735e+01,   4.03136513e+01,   4.07291292e+01,\n",
       "          4.11446071e+01,   4.15600850e+01]),\n",
       " <a list of 100 Patch objects>)"
      ]
     },
     "execution_count": 21,
     "metadata": {},
     "output_type": "execute_result"
    },
    {
     "data": {
      "image/png": "[encoded data removed]",
      "text/plain": [
       "<matplotlib.figure.Figure at 0x7ff837fe2940>"
      ]
     },
     "metadata": {
      "needs_background": "light"
     },
     "output_type": "display_data"
    }
   ],
   "source": [
    "\n",
    "def expo_dist(mean,size):\n",
    "    data = np.random.exponential(mean,size)\n",
    "    return data\n",
    "\n",
    "plt.subplot(1,2,1)\n",
    "y1=expo_dist(10,10)\n",
    "plt.hist(y1,bins=100)\n",
    "\n",
    "plt.subplot(1,2,2)\n",
    "y2=expo_dist(10,100)\n",
    "plt.hist(y2,bins=100)"
   ]
  },
  {
   "cell_type": "markdown",
   "metadata": {},
   "source": [
    "How are the two distributions different?"
   ]
  },
  {
   "cell_type": "code",
   "execution_count": null,
   "metadata": {},
   "outputs": [],
   "source": [
    "# Juan es calvo y en la sopa hay pelos, aquí hay algo que falla"
   ]
  },
  {
   "cell_type": "markdown",
   "metadata": {},
   "source": [
    "## Exponential Distribution of Real Data\n",
    "\n",
    "Suppose that the amount of time one spends in a bank is exponentially distributed with mean as 10 minutes (i.e. λ = 1/10). What is the probability that a customer will spend less than fifteen minutes in the bank? \n",
    "\n",
    "Write a code in python to solve this problem"
   ]
  },
  {
   "cell_type": "code",
   "execution_count": null,
   "metadata": {},
   "outputs": [],
   "source": [
    "# your answer here\n",
    "# Hint: This is same as saying P(x<15)"
   ]
  },
  {
   "cell_type": "markdown",
   "metadata": {},
   "source": [
    "What is the probability that the customer will spend more than 15 minutes"
   ]
  },
  {
   "cell_type": "code",
   "execution_count": null,
   "metadata": {},
   "outputs": [],
   "source": [
    "# your answer here"
   ]
  },
  {
   "cell_type": "code",
   "execution_count": null,
   "metadata": {},
   "outputs": [],
   "source": []
  }
 ],
 "metadata": {
  "kernelspec": {
   "display_name": "Python 3",
   "language": "python",
   "name": "python3"
  },
  "language_info": {
   "codemirror_mode": {
    "name": "ipython",
    "version": 3
   },
   "file_extension": ".py",
   "mimetype": "text/x-python",
   "name": "python",
   "nbconvert_exporter": "python",
   "pygments_lexer": "ipython3",
   "version": "3.6.8"
  }
 },
 "nbformat": 4,
 "nbformat_minor": 2
}
